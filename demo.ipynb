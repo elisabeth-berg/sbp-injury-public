{
 "cells": [
  {
   "cell_type": "code",
   "execution_count": 20,
   "metadata": {
    "collapsed": true
   },
   "outputs": [],
   "source": [
    "import pandas as pd\n",
    "import numpy as np\n",
    "from src import models"
   ]
  },
  {
   "cell_type": "code",
   "execution_count": 2,
   "metadata": {
    "collapsed": true
   },
   "outputs": [],
   "source": [
    "# Loading the full dataset\n",
    "df = pd.read_pickle('data/df_formodel.pkl')\n",
    "X = df.drop(columns=['injured'])  \n",
    "y = df['injured']"
   ]
  },
  {
   "cell_type": "code",
   "execution_count": 34,
   "metadata": {},
   "outputs": [],
   "source": [
    "# Loading the saved decision tree model pickle\n",
    "model_pkl = open('gb_model.pkl', 'rb')\n",
    "model = pickle.load(model_pkl)"
   ]
  },
  {
   "cell_type": "code",
   "execution_count": 26,
   "metadata": {},
   "outputs": [],
   "source": [
    "# feature_values = ['hour', 'new_set', 'age', 'visit_count', 'occupancy', 'longevity',\n",
    "#       'num_employees', 'guest', 'member', 'punch', 'mon', 'tues', 'wed',\n",
    "#       'thurs', 'fri', 'sat', 'sun', 'visits_3', 'visits_7', 'visits_14',\n",
    "#       'visits_30']\n",
    "\n",
    "feature_values = [8, 0, 30, 10, 300, 55, 8, 1, 0, 0, 0, 1, 0, 0, 0, 0, 0, 1, 2, 5, 5]"
   ]
  },
  {
   "cell_type": "code",
   "execution_count": 41,
   "metadata": {},
   "outputs": [
    {
     "data": {
      "text/plain": [
       "array([ 0.00050947])"
      ]
     },
     "execution_count": 41,
     "metadata": {},
     "output_type": "execute_result"
    }
   ],
   "source": [
    "model.predict(one_visit)"
   ]
  }
 ],
 "metadata": {
  "kernelspec": {
   "display_name": "Python 3",
   "language": "python",
   "name": "python3"
  },
  "language_info": {
   "codemirror_mode": {
    "name": "ipython",
    "version": 3
   },
   "file_extension": ".py",
   "mimetype": "text/x-python",
   "name": "python",
   "nbconvert_exporter": "python",
   "pygments_lexer": "ipython3",
   "version": "3.6.3"
  }
 },
 "nbformat": 4,
 "nbformat_minor": 2
}
